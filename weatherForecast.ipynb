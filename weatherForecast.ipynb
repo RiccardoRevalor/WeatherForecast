{
  "metadata": {
    "kernelspec": {
      "name": "python",
      "display_name": "Python (Pyodide)",
      "language": "python"
    },
    "language_info": {
      "codemirror_mode": {
        "name": "python",
        "version": 3
      },
      "file_extension": ".py",
      "mimetype": "text/x-python",
      "name": "python",
      "nbconvert_exporter": "python",
      "pygments_lexer": "ipython3",
      "version": "3.8"
    }
  },
  "nbformat_minor": 4,
  "nbformat": 4,
  "cells": [
    {
      "cell_type": "code",
      "source": "import pandas as pd\nimport matplotlib as mlt\n\nweather = pd.read_csv(\"weather.csv\", index_col=\"DATE\") #data usata come indice del df\n",
      "metadata": {
        "trusted": true
      },
      "outputs": [],
      "execution_count": 71
    },
    {
      "cell_type": "code",
      "source": "#pulitura df, calcola missing values %\nnull_pct = weather.apply(pd.isnull).sum() / weather.shape[0]\n",
      "metadata": {
        "trusted": true
      },
      "outputs": [],
      "execution_count": 72
    },
    {
      "cell_type": "code",
      "source": "null_pct",
      "metadata": {
        "trusted": true
      },
      "outputs": [
        {
          "execution_count": 73,
          "output_type": "execute_result",
          "data": {
            "text/plain": "STATION    0.000000\nNAME       0.000000\nPRCP       0.303807\nSNWD       0.913967\nTAVG       0.000000\nTMAX       0.330710\nTMIN       0.470898\ndtype: float64"
          },
          "metadata": {}
        }
      ],
      "execution_count": 73
    },
    {
      "cell_type": "code",
      "source": "# pulitura: rimuovi colonne con molti NaN\nvalid_cols = weather.columns[null_pct < .35]",
      "metadata": {
        "trusted": true
      },
      "outputs": [],
      "execution_count": 74
    },
    {
      "cell_type": "code",
      "source": "valid_cols",
      "metadata": {
        "trusted": true
      },
      "outputs": [
        {
          "execution_count": 75,
          "output_type": "execute_result",
          "data": {
            "text/plain": "Index(['STATION', 'NAME', 'PRCP', 'TAVG', 'TMAX'], dtype='object')"
          },
          "metadata": {}
        }
      ],
      "execution_count": 75
    },
    {
      "cell_type": "code",
      "source": "weather = weather[valid_cols].copy()\nweather.columns = weather.columns.str.lower()",
      "metadata": {
        "trusted": true
      },
      "outputs": [],
      "execution_count": 76
    },
    {
      "cell_type": "code",
      "source": "weather",
      "metadata": {
        "trusted": true
      },
      "outputs": [
        {
          "execution_count": 77,
          "output_type": "execute_result",
          "data": {
            "text/plain": "                station                   name  prcp  tavg  tmax\nDATE                                                            \n1973-05-06  ITM00016061  TORINO BRIC CROCE, IT   NaN  14.7   NaN\n1973-09-17  ITM00016061  TORINO BRIC CROCE, IT   NaN  17.7   NaN\n1973-12-13  ITM00016061  TORINO BRIC CROCE, IT   NaN  -3.4  -2.0\n1973-12-17  ITM00016061  TORINO BRIC CROCE, IT   NaN   6.0   NaN\n1974-03-27  ITM00016061  TORINO BRIC CROCE, IT   NaN   7.5   NaN\n...                 ...                    ...   ...   ...   ...\n2024-08-28  ITM00016061  TORINO BRIC CROCE, IT   NaN  23.6  27.1\n2024-08-29  ITM00016061  TORINO BRIC CROCE, IT   NaN  24.5  28.7\n2024-08-30  ITM00016061  TORINO BRIC CROCE, IT   NaN  25.4   NaN\n2024-08-31  ITM00016061  TORINO BRIC CROCE, IT   NaN  25.1  28.4\n2024-09-01  ITM00016061  TORINO BRIC CROCE, IT   NaN  24.4  28.5\n\n[17284 rows x 5 columns]",
            "text/html": "<div>\n<style scoped>\n    .dataframe tbody tr th:only-of-type {\n        vertical-align: middle;\n    }\n\n    .dataframe tbody tr th {\n        vertical-align: top;\n    }\n\n    .dataframe thead th {\n        text-align: right;\n    }\n</style>\n<table border=\"1\" class=\"dataframe\">\n  <thead>\n    <tr style=\"text-align: right;\">\n      <th></th>\n      <th>station</th>\n      <th>name</th>\n      <th>prcp</th>\n      <th>tavg</th>\n      <th>tmax</th>\n    </tr>\n    <tr>\n      <th>DATE</th>\n      <th></th>\n      <th></th>\n      <th></th>\n      <th></th>\n      <th></th>\n    </tr>\n  </thead>\n  <tbody>\n    <tr>\n      <th>1973-05-06</th>\n      <td>ITM00016061</td>\n      <td>TORINO BRIC CROCE, IT</td>\n      <td>NaN</td>\n      <td>14.7</td>\n      <td>NaN</td>\n    </tr>\n    <tr>\n      <th>1973-09-17</th>\n      <td>ITM00016061</td>\n      <td>TORINO BRIC CROCE, IT</td>\n      <td>NaN</td>\n      <td>17.7</td>\n      <td>NaN</td>\n    </tr>\n    <tr>\n      <th>1973-12-13</th>\n      <td>ITM00016061</td>\n      <td>TORINO BRIC CROCE, IT</td>\n      <td>NaN</td>\n      <td>-3.4</td>\n      <td>-2.0</td>\n    </tr>\n    <tr>\n      <th>1973-12-17</th>\n      <td>ITM00016061</td>\n      <td>TORINO BRIC CROCE, IT</td>\n      <td>NaN</td>\n      <td>6.0</td>\n      <td>NaN</td>\n    </tr>\n    <tr>\n      <th>1974-03-27</th>\n      <td>ITM00016061</td>\n      <td>TORINO BRIC CROCE, IT</td>\n      <td>NaN</td>\n      <td>7.5</td>\n      <td>NaN</td>\n    </tr>\n    <tr>\n      <th>...</th>\n      <td>...</td>\n      <td>...</td>\n      <td>...</td>\n      <td>...</td>\n      <td>...</td>\n    </tr>\n    <tr>\n      <th>2024-08-28</th>\n      <td>ITM00016061</td>\n      <td>TORINO BRIC CROCE, IT</td>\n      <td>NaN</td>\n      <td>23.6</td>\n      <td>27.1</td>\n    </tr>\n    <tr>\n      <th>2024-08-29</th>\n      <td>ITM00016061</td>\n      <td>TORINO BRIC CROCE, IT</td>\n      <td>NaN</td>\n      <td>24.5</td>\n      <td>28.7</td>\n    </tr>\n    <tr>\n      <th>2024-08-30</th>\n      <td>ITM00016061</td>\n      <td>TORINO BRIC CROCE, IT</td>\n      <td>NaN</td>\n      <td>25.4</td>\n      <td>NaN</td>\n    </tr>\n    <tr>\n      <th>2024-08-31</th>\n      <td>ITM00016061</td>\n      <td>TORINO BRIC CROCE, IT</td>\n      <td>NaN</td>\n      <td>25.1</td>\n      <td>28.4</td>\n    </tr>\n    <tr>\n      <th>2024-09-01</th>\n      <td>ITM00016061</td>\n      <td>TORINO BRIC CROCE, IT</td>\n      <td>NaN</td>\n      <td>24.4</td>\n      <td>28.5</td>\n    </tr>\n  </tbody>\n</table>\n<p>17284 rows × 5 columns</p>\n</div>"
          },
          "metadata": {}
        }
      ],
      "execution_count": 77
    },
    {
      "cell_type": "code",
      "source": "weather['prcp'] = weather['prcp'].fillna(0.0)",
      "metadata": {
        "trusted": true
      },
      "outputs": [],
      "execution_count": 78
    },
    {
      "cell_type": "code",
      "source": "weather",
      "metadata": {
        "trusted": true
      },
      "outputs": [
        {
          "execution_count": 79,
          "output_type": "execute_result",
          "data": {
            "text/plain": "                station                   name  prcp  tavg  tmax\nDATE                                                            \n1973-05-06  ITM00016061  TORINO BRIC CROCE, IT   0.0  14.7   NaN\n1973-09-17  ITM00016061  TORINO BRIC CROCE, IT   0.0  17.7   NaN\n1973-12-13  ITM00016061  TORINO BRIC CROCE, IT   0.0  -3.4  -2.0\n1973-12-17  ITM00016061  TORINO BRIC CROCE, IT   0.0   6.0   NaN\n1974-03-27  ITM00016061  TORINO BRIC CROCE, IT   0.0   7.5   NaN\n...                 ...                    ...   ...   ...   ...\n2024-08-28  ITM00016061  TORINO BRIC CROCE, IT   0.0  23.6  27.1\n2024-08-29  ITM00016061  TORINO BRIC CROCE, IT   0.0  24.5  28.7\n2024-08-30  ITM00016061  TORINO BRIC CROCE, IT   0.0  25.4   NaN\n2024-08-31  ITM00016061  TORINO BRIC CROCE, IT   0.0  25.1  28.4\n2024-09-01  ITM00016061  TORINO BRIC CROCE, IT   0.0  24.4  28.5\n\n[17284 rows x 5 columns]",
            "text/html": "<div>\n<style scoped>\n    .dataframe tbody tr th:only-of-type {\n        vertical-align: middle;\n    }\n\n    .dataframe tbody tr th {\n        vertical-align: top;\n    }\n\n    .dataframe thead th {\n        text-align: right;\n    }\n</style>\n<table border=\"1\" class=\"dataframe\">\n  <thead>\n    <tr style=\"text-align: right;\">\n      <th></th>\n      <th>station</th>\n      <th>name</th>\n      <th>prcp</th>\n      <th>tavg</th>\n      <th>tmax</th>\n    </tr>\n    <tr>\n      <th>DATE</th>\n      <th></th>\n      <th></th>\n      <th></th>\n      <th></th>\n      <th></th>\n    </tr>\n  </thead>\n  <tbody>\n    <tr>\n      <th>1973-05-06</th>\n      <td>ITM00016061</td>\n      <td>TORINO BRIC CROCE, IT</td>\n      <td>0.0</td>\n      <td>14.7</td>\n      <td>NaN</td>\n    </tr>\n    <tr>\n      <th>1973-09-17</th>\n      <td>ITM00016061</td>\n      <td>TORINO BRIC CROCE, IT</td>\n      <td>0.0</td>\n      <td>17.7</td>\n      <td>NaN</td>\n    </tr>\n    <tr>\n      <th>1973-12-13</th>\n      <td>ITM00016061</td>\n      <td>TORINO BRIC CROCE, IT</td>\n      <td>0.0</td>\n      <td>-3.4</td>\n      <td>-2.0</td>\n    </tr>\n    <tr>\n      <th>1973-12-17</th>\n      <td>ITM00016061</td>\n      <td>TORINO BRIC CROCE, IT</td>\n      <td>0.0</td>\n      <td>6.0</td>\n      <td>NaN</td>\n    </tr>\n    <tr>\n      <th>1974-03-27</th>\n      <td>ITM00016061</td>\n      <td>TORINO BRIC CROCE, IT</td>\n      <td>0.0</td>\n      <td>7.5</td>\n      <td>NaN</td>\n    </tr>\n    <tr>\n      <th>...</th>\n      <td>...</td>\n      <td>...</td>\n      <td>...</td>\n      <td>...</td>\n      <td>...</td>\n    </tr>\n    <tr>\n      <th>2024-08-28</th>\n      <td>ITM00016061</td>\n      <td>TORINO BRIC CROCE, IT</td>\n      <td>0.0</td>\n      <td>23.6</td>\n      <td>27.1</td>\n    </tr>\n    <tr>\n      <th>2024-08-29</th>\n      <td>ITM00016061</td>\n      <td>TORINO BRIC CROCE, IT</td>\n      <td>0.0</td>\n      <td>24.5</td>\n      <td>28.7</td>\n    </tr>\n    <tr>\n      <th>2024-08-30</th>\n      <td>ITM00016061</td>\n      <td>TORINO BRIC CROCE, IT</td>\n      <td>0.0</td>\n      <td>25.4</td>\n      <td>NaN</td>\n    </tr>\n    <tr>\n      <th>2024-08-31</th>\n      <td>ITM00016061</td>\n      <td>TORINO BRIC CROCE, IT</td>\n      <td>0.0</td>\n      <td>25.1</td>\n      <td>28.4</td>\n    </tr>\n    <tr>\n      <th>2024-09-01</th>\n      <td>ITM00016061</td>\n      <td>TORINO BRIC CROCE, IT</td>\n      <td>0.0</td>\n      <td>24.4</td>\n      <td>28.5</td>\n    </tr>\n  </tbody>\n</table>\n<p>17284 rows × 5 columns</p>\n</div>"
          },
          "metadata": {}
        }
      ],
      "execution_count": 79
    },
    {
      "cell_type": "code",
      "source": "weather = weather.ffill().fillna(15.0)",
      "metadata": {
        "trusted": true
      },
      "outputs": [],
      "execution_count": 80
    },
    {
      "cell_type": "code",
      "source": "weather",
      "metadata": {
        "trusted": true
      },
      "outputs": [
        {
          "execution_count": 81,
          "output_type": "execute_result",
          "data": {
            "text/plain": "                station                   name  prcp  tavg  tmax\nDATE                                                            \n1973-05-06  ITM00016061  TORINO BRIC CROCE, IT   0.0  14.7  15.0\n1973-09-17  ITM00016061  TORINO BRIC CROCE, IT   0.0  17.7  15.0\n1973-12-13  ITM00016061  TORINO BRIC CROCE, IT   0.0  -3.4  -2.0\n1973-12-17  ITM00016061  TORINO BRIC CROCE, IT   0.0   6.0  -2.0\n1974-03-27  ITM00016061  TORINO BRIC CROCE, IT   0.0   7.5  -2.0\n...                 ...                    ...   ...   ...   ...\n2024-08-28  ITM00016061  TORINO BRIC CROCE, IT   0.0  23.6  27.1\n2024-08-29  ITM00016061  TORINO BRIC CROCE, IT   0.0  24.5  28.7\n2024-08-30  ITM00016061  TORINO BRIC CROCE, IT   0.0  25.4  28.7\n2024-08-31  ITM00016061  TORINO BRIC CROCE, IT   0.0  25.1  28.4\n2024-09-01  ITM00016061  TORINO BRIC CROCE, IT   0.0  24.4  28.5\n\n[17284 rows x 5 columns]",
            "text/html": "<div>\n<style scoped>\n    .dataframe tbody tr th:only-of-type {\n        vertical-align: middle;\n    }\n\n    .dataframe tbody tr th {\n        vertical-align: top;\n    }\n\n    .dataframe thead th {\n        text-align: right;\n    }\n</style>\n<table border=\"1\" class=\"dataframe\">\n  <thead>\n    <tr style=\"text-align: right;\">\n      <th></th>\n      <th>station</th>\n      <th>name</th>\n      <th>prcp</th>\n      <th>tavg</th>\n      <th>tmax</th>\n    </tr>\n    <tr>\n      <th>DATE</th>\n      <th></th>\n      <th></th>\n      <th></th>\n      <th></th>\n      <th></th>\n    </tr>\n  </thead>\n  <tbody>\n    <tr>\n      <th>1973-05-06</th>\n      <td>ITM00016061</td>\n      <td>TORINO BRIC CROCE, IT</td>\n      <td>0.0</td>\n      <td>14.7</td>\n      <td>15.0</td>\n    </tr>\n    <tr>\n      <th>1973-09-17</th>\n      <td>ITM00016061</td>\n      <td>TORINO BRIC CROCE, IT</td>\n      <td>0.0</td>\n      <td>17.7</td>\n      <td>15.0</td>\n    </tr>\n    <tr>\n      <th>1973-12-13</th>\n      <td>ITM00016061</td>\n      <td>TORINO BRIC CROCE, IT</td>\n      <td>0.0</td>\n      <td>-3.4</td>\n      <td>-2.0</td>\n    </tr>\n    <tr>\n      <th>1973-12-17</th>\n      <td>ITM00016061</td>\n      <td>TORINO BRIC CROCE, IT</td>\n      <td>0.0</td>\n      <td>6.0</td>\n      <td>-2.0</td>\n    </tr>\n    <tr>\n      <th>1974-03-27</th>\n      <td>ITM00016061</td>\n      <td>TORINO BRIC CROCE, IT</td>\n      <td>0.0</td>\n      <td>7.5</td>\n      <td>-2.0</td>\n    </tr>\n    <tr>\n      <th>...</th>\n      <td>...</td>\n      <td>...</td>\n      <td>...</td>\n      <td>...</td>\n      <td>...</td>\n    </tr>\n    <tr>\n      <th>2024-08-28</th>\n      <td>ITM00016061</td>\n      <td>TORINO BRIC CROCE, IT</td>\n      <td>0.0</td>\n      <td>23.6</td>\n      <td>27.1</td>\n    </tr>\n    <tr>\n      <th>2024-08-29</th>\n      <td>ITM00016061</td>\n      <td>TORINO BRIC CROCE, IT</td>\n      <td>0.0</td>\n      <td>24.5</td>\n      <td>28.7</td>\n    </tr>\n    <tr>\n      <th>2024-08-30</th>\n      <td>ITM00016061</td>\n      <td>TORINO BRIC CROCE, IT</td>\n      <td>0.0</td>\n      <td>25.4</td>\n      <td>28.7</td>\n    </tr>\n    <tr>\n      <th>2024-08-31</th>\n      <td>ITM00016061</td>\n      <td>TORINO BRIC CROCE, IT</td>\n      <td>0.0</td>\n      <td>25.1</td>\n      <td>28.4</td>\n    </tr>\n    <tr>\n      <th>2024-09-01</th>\n      <td>ITM00016061</td>\n      <td>TORINO BRIC CROCE, IT</td>\n      <td>0.0</td>\n      <td>24.4</td>\n      <td>28.5</td>\n    </tr>\n  </tbody>\n</table>\n<p>17284 rows × 5 columns</p>\n</div>"
          },
          "metadata": {}
        }
      ],
      "execution_count": 81
    },
    {
      "cell_type": "code",
      "source": "null_pct = weather.apply(pd.isnull).sum() / weather.shape[0]\nnull_pct",
      "metadata": {
        "trusted": true
      },
      "outputs": [
        {
          "execution_count": 82,
          "output_type": "execute_result",
          "data": {
            "text/plain": "station    0.0\nname       0.0\nprcp       0.0\ntavg       0.0\ntmax       0.0\ndtype: float64"
          },
          "metadata": {}
        }
      ],
      "execution_count": 82
    },
    {
      "cell_type": "code",
      "source": "#data preparation: verifico i data types\n#station: object (è l'id della stazione meteo)\n#name = object (nome stazion)\n#queste due è giusto siano object\n#tutte le altre sono giuste: sono float64\nweather.dtypes\n\nweather.index",
      "metadata": {
        "trusted": true
      },
      "outputs": [
        {
          "execution_count": 83,
          "output_type": "execute_result",
          "data": {
            "text/plain": "Index(['1973-05-06', '1973-09-17', '1973-12-13', '1973-12-17', '1974-03-27',\n       '1974-06-20', '1975-01-30', '1975-01-31', '1975-02-01', '1975-02-02',\n       ...\n       '2024-08-23', '2024-08-24', '2024-08-25', '2024-08-26', '2024-08-27',\n       '2024-08-28', '2024-08-29', '2024-08-30', '2024-08-31', '2024-09-01'],\n      dtype='object', name='DATE', length=17284)"
          },
          "metadata": {}
        }
      ],
      "execution_count": 83
    },
    {
      "cell_type": "code",
      "source": "#converti index da object a datetime per comodità\nweather.index = pd.to_datetime(weather.index)\nweather.index\nweather.index.year.value_counts().sort_index()",
      "metadata": {
        "trusted": true
      },
      "outputs": [
        {
          "execution_count": 84,
          "output_type": "execute_result",
          "data": {
            "text/plain": "DATE\n1973      4\n1974      2\n1975    329\n1976    343\n1977    362\n1978    357\n1979    349\n1980    361\n1981    364\n1982    360\n1983    364\n1984    364\n1985    363\n1986    364\n1987    362\n1988    363\n1989    365\n1990    365\n1991    365\n1992    366\n1993    365\n1994    365\n1995    365\n1996    366\n1997    365\n1998    365\n1999    364\n2000    366\n2001    364\n2002    364\n2003    364\n2004    365\n2006    365\n2007    365\n2009    365\n2010    365\n2011    365\n2012    366\n2013    365\n2014    365\n2015    365\n2016    366\n2017    365\n2018    364\n2019    365\n2020    357\n2021    362\n2022    365\n2023    365\n2024    239\nName: count, dtype: int64"
          },
          "metadata": {}
        }
      ],
      "execution_count": 84
    },
    {
      "cell_type": "code",
      "source": "#elimina gaps: inizia dal 1980\nweather = weather[weather.index.year >= 1980]\nweather.index.year.value_counts().sort_index()",
      "metadata": {
        "trusted": true
      },
      "outputs": [
        {
          "execution_count": 85,
          "output_type": "execute_result",
          "data": {
            "text/plain": "DATE\n1980    361\n1981    364\n1982    360\n1983    364\n1984    364\n1985    363\n1986    364\n1987    362\n1988    363\n1989    365\n1990    365\n1991    365\n1992    366\n1993    365\n1994    365\n1995    365\n1996    366\n1997    365\n1998    365\n1999    364\n2000    366\n2001    364\n2002    364\n2003    364\n2004    365\n2006    365\n2007    365\n2009    365\n2010    365\n2011    365\n2012    366\n2013    365\n2014    365\n2015    365\n2016    366\n2017    365\n2018    364\n2019    365\n2020    357\n2021    362\n2022    365\n2023    365\n2024    239\nName: count, dtype: int64"
          },
          "metadata": {}
        }
      ],
      "execution_count": 85
    },
    {
      "cell_type": "code",
      "source": "weather['prcp'].plot()",
      "metadata": {
        "trusted": true
      },
      "outputs": [
        {
          "execution_count": 88,
          "output_type": "execute_result",
          "data": {
            "text/plain": "<AxesSubplot:xlabel='DATE'>"
          },
          "metadata": {}
        },
        {
          "output_type": "display_data",
          "data": {
            "text/plain": "<Figure size 640x480 with 1 Axes>",
            "image/png": "[encoded data removed]"
          },
          "metadata": {}
        }
      ],
      "execution_count": 88
    },
    {
      "cell_type": "code",
      "source": "#I DATI POSSONO ANDARE BENE\n\n#COLONNE TARGET\nweather[\"target\"] = weather.shift(-1)[\"tavg\"] #la temp target corrisponde alla temp del giorno dopo\n#l'algoritmo deve cioè alla fine prevedere la temp avg di domani\n#ovviamente il valore target dell'ultimo giorno del db è Nan\n#per risolvere ciò faccio di nuovo un ffil()\nweather = weather.ffill()\nweather",
      "metadata": {
        "trusted": true
      },
      "outputs": [
        {
          "name": "stderr",
          "text": "<ipython-input-91-1d31f364fe78>:4: SettingWithCopyWarning: \nA value is trying to be set on a copy of a slice from a DataFrame.\nTry using .loc[row_indexer,col_indexer] = value instead\n\nSee the caveats in the documentation: https://pandas.pydata.org/pandas-docs/stable/user_guide/indexing.html#returning-a-view-versus-a-copy\n  weather[\"target\"] = weather.shift(-1)[\"tavg\"] #la temp target corrisponde alla temp del giorno dopo\n",
          "output_type": "stream"
        },
        {
          "execution_count": 91,
          "output_type": "execute_result",
          "data": {
            "text/plain": "                station                   name  prcp  tavg  tmax  target\nDATE                                                                    \n1980-01-01  ITM00016061  TORINO BRIC CROCE, IT   0.0   1.3   4.0     0.3\n1980-01-02  ITM00016061  TORINO BRIC CROCE, IT   0.0   0.3   4.0    -0.7\n1980-01-03  ITM00016061  TORINO BRIC CROCE, IT   0.0  -0.7   3.0    -0.8\n1980-01-04  ITM00016061  TORINO BRIC CROCE, IT   0.0  -0.8   2.0    -2.2\n1980-01-05  ITM00016061  TORINO BRIC CROCE, IT   0.0  -2.2  -2.0     0.8\n...                 ...                    ...   ...   ...   ...     ...\n2024-08-28  ITM00016061  TORINO BRIC CROCE, IT   0.0  23.6  27.1    24.5\n2024-08-29  ITM00016061  TORINO BRIC CROCE, IT   0.0  24.5  28.7    25.4\n2024-08-30  ITM00016061  TORINO BRIC CROCE, IT   0.0  25.4  28.7    25.1\n2024-08-31  ITM00016061  TORINO BRIC CROCE, IT   0.0  25.1  28.4    24.4\n2024-09-01  ITM00016061  TORINO BRIC CROCE, IT   0.0  24.4  28.5    24.4\n\n[15538 rows x 6 columns]",
            "text/html": "<div>\n<style scoped>\n    .dataframe tbody tr th:only-of-type {\n        vertical-align: middle;\n    }\n\n    .dataframe tbody tr th {\n        vertical-align: top;\n    }\n\n    .dataframe thead th {\n        text-align: right;\n    }\n</style>\n<table border=\"1\" class=\"dataframe\">\n  <thead>\n    <tr style=\"text-align: right;\">\n      <th></th>\n      <th>station</th>\n      <th>name</th>\n      <th>prcp</th>\n      <th>tavg</th>\n      <th>tmax</th>\n      <th>target</th>\n    </tr>\n    <tr>\n      <th>DATE</th>\n      <th></th>\n      <th></th>\n      <th></th>\n      <th></th>\n      <th></th>\n      <th></th>\n    </tr>\n  </thead>\n  <tbody>\n    <tr>\n      <th>1980-01-01</th>\n      <td>ITM00016061</td>\n      <td>TORINO BRIC CROCE, IT</td>\n      <td>0.0</td>\n      <td>1.3</td>\n      <td>4.0</td>\n      <td>0.3</td>\n    </tr>\n    <tr>\n      <th>1980-01-02</th>\n      <td>ITM00016061</td>\n      <td>TORINO BRIC CROCE, IT</td>\n      <td>0.0</td>\n      <td>0.3</td>\n      <td>4.0</td>\n      <td>-0.7</td>\n    </tr>\n    <tr>\n      <th>1980-01-03</th>\n      <td>ITM00016061</td>\n      <td>TORINO BRIC CROCE, IT</td>\n      <td>0.0</td>\n      <td>-0.7</td>\n      <td>3.0</td>\n      <td>-0.8</td>\n    </tr>\n    <tr>\n      <th>1980-01-04</th>\n      <td>ITM00016061</td>\n      <td>TORINO BRIC CROCE, IT</td>\n      <td>0.0</td>\n      <td>-0.8</td>\n      <td>2.0</td>\n      <td>-2.2</td>\n    </tr>\n    <tr>\n      <th>1980-01-05</th>\n      <td>ITM00016061</td>\n      <td>TORINO BRIC CROCE, IT</td>\n      <td>0.0</td>\n      <td>-2.2</td>\n      <td>-2.0</td>\n      <td>0.8</td>\n    </tr>\n    <tr>\n      <th>...</th>\n      <td>...</td>\n      <td>...</td>\n      <td>...</td>\n      <td>...</td>\n      <td>...</td>\n      <td>...</td>\n    </tr>\n    <tr>\n      <th>2024-08-28</th>\n      <td>ITM00016061</td>\n      <td>TORINO BRIC CROCE, IT</td>\n      <td>0.0</td>\n      <td>23.6</td>\n      <td>27.1</td>\n      <td>24.5</td>\n    </tr>\n    <tr>\n      <th>2024-08-29</th>\n      <td>ITM00016061</td>\n      <td>TORINO BRIC CROCE, IT</td>\n      <td>0.0</td>\n      <td>24.5</td>\n      <td>28.7</td>\n      <td>25.4</td>\n    </tr>\n    <tr>\n      <th>2024-08-30</th>\n      <td>ITM00016061</td>\n      <td>TORINO BRIC CROCE, IT</td>\n      <td>0.0</td>\n      <td>25.4</td>\n      <td>28.7</td>\n      <td>25.1</td>\n    </tr>\n    <tr>\n      <th>2024-08-31</th>\n      <td>ITM00016061</td>\n      <td>TORINO BRIC CROCE, IT</td>\n      <td>0.0</td>\n      <td>25.1</td>\n      <td>28.4</td>\n      <td>24.4</td>\n    </tr>\n    <tr>\n      <th>2024-09-01</th>\n      <td>ITM00016061</td>\n      <td>TORINO BRIC CROCE, IT</td>\n      <td>0.0</td>\n      <td>24.4</td>\n      <td>28.5</td>\n      <td>24.4</td>\n    </tr>\n  </tbody>\n</table>\n<p>15538 rows × 6 columns</p>\n</div>"
          },
          "metadata": {}
        }
      ],
      "execution_count": 91
    },
    {
      "cell_type": "code",
      "source": "#ALGORTIMO ML\n#MODELLO DI REGRESSIONE RIDGE\nfrom sklearn.linear_model import Ridge",
      "metadata": {
        "trusted": true
      },
      "outputs": [],
      "execution_count": 101
    },
    {
      "cell_type": "code",
      "source": "weather_corrs = weather[['prcp', 'tavg', 'tmax', 'target']]\n#tmax è tavg ovviamente sono molto correlate tra loro\n#prcp è quella meno correlata con le altre!\n#è giusto che target sia abbastanza correlata con tmax e tavg essendo una temperatura anch'essa!\nweather_corrs.corr()",
      "metadata": {
        "trusted": true
      },
      "outputs": [
        {
          "execution_count": 100,
          "output_type": "execute_result",
          "data": {
            "text/plain": "            prcp      tavg      tmax    target\nprcp    1.000000 -0.044681 -0.048661 -0.013688\ntavg   -0.044681  1.000000  0.794314  0.958561\ntmax   -0.048661  0.794314  1.000000  0.759994\ntarget -0.013688  0.958561  0.759994  1.000000",
            "text/html": "<div>\n<style scoped>\n    .dataframe tbody tr th:only-of-type {\n        vertical-align: middle;\n    }\n\n    .dataframe tbody tr th {\n        vertical-align: top;\n    }\n\n    .dataframe thead th {\n        text-align: right;\n    }\n</style>\n<table border=\"1\" class=\"dataframe\">\n  <thead>\n    <tr style=\"text-align: right;\">\n      <th></th>\n      <th>prcp</th>\n      <th>tavg</th>\n      <th>tmax</th>\n      <th>target</th>\n    </tr>\n  </thead>\n  <tbody>\n    <tr>\n      <th>prcp</th>\n      <td>1.000000</td>\n      <td>-0.044681</td>\n      <td>-0.048661</td>\n      <td>-0.013688</td>\n    </tr>\n    <tr>\n      <th>tavg</th>\n      <td>-0.044681</td>\n      <td>1.000000</td>\n      <td>0.794314</td>\n      <td>0.958561</td>\n    </tr>\n    <tr>\n      <th>tmax</th>\n      <td>-0.048661</td>\n      <td>0.794314</td>\n      <td>1.000000</td>\n      <td>0.759994</td>\n    </tr>\n    <tr>\n      <th>target</th>\n      <td>-0.013688</td>\n      <td>0.958561</td>\n      <td>0.759994</td>\n      <td>1.000000</td>\n    </tr>\n  </tbody>\n</table>\n</div>"
          },
          "metadata": {}
        }
      ],
      "execution_count": 100
    },
    {
      "cell_type": "code",
      "source": "#RIDGE è meglio di Linear Regression in questo caso per gestire meglio la colinearità\n'''\nLa Ridge Regression è una tecnica di apprendimento supervisionato che aggiunge un termine di \nregolarizzazione chiamato “ridge penalty” alla funzione obiettivo. \nQuesto aiuta a prevenire l'eccessiva sensibilità ai dati di addestramento, riducendo l'overfitting\n'''\n\nrr = Ridge(alpha=.1) #alpha fa quello spiegato sopra",
      "metadata": {
        "trusted": true
      },
      "outputs": [],
      "execution_count": 102
    },
    {
      "cell_type": "code",
      "source": "#PREDICTORS: prcp, tavg, tmax\npredictors = weather.columns[~weather.columns.isin([\"target\",\"name\",\"station\"])]\npredictors",
      "metadata": {
        "trusted": true
      },
      "outputs": [
        {
          "execution_count": 104,
          "output_type": "execute_result",
          "data": {
            "text/plain": "Index(['prcp', 'tavg', 'tmax'], dtype='object')"
          },
          "metadata": {}
        }
      ],
      "execution_count": 104
    },
    {
      "cell_type": "code",
      "source": "# i dati rappresentano una time series\n# pertanto per tenere conto della time series bisogna ricorrere al backtesting\ndef backtest(weather, model, predictors, start=3650,step=90):\n    #weather è il df pandas\n    #model è il modello di Ridge\n    #predictors quelli definiti prima\n    #start = voglio 10 anni di dati (approx) -> PRIMI 10 ANNI = PRIMO SET DI PREDICTIONS\n    #step = ogni 90 giorni (3 mesi circa) si crea un set di predictions\n    all_preds = [] #lista di tutte le preds (di 90 days in 90)\n    end = weather.shape[0] # prendi tutto il df\n\n    #PREDICTION DI 90 GIORNI\n    for i in range(start, end, step):\n        #avanza di 90 giorni in 90 giorni\n        #ogni iterazione crea un training set\n        train = weather.iloc[:i,:] #tutte le righe fino a i\n        test = weather.iloc[i:(i+step),:i] #prendi i 90 giorni DOPO quelli del train set, su cui fare predictions\n\n        #fitta modello ad ogni iterazione col train set\n        model.fit(train[predictors], train[\"target\"])\n\n        #fai la predizione passandogli il test set\n        preds = model.predict(test[predictors]) \n\n        #converti in Series di pandas\n        preds = pd.Series(preds, index=test.index)\n\n        #concatena i dati di test veri (test[\"target\"]) con le preds appena fatte\n        #due colonne separate nello stesso df: una coi dati veri una con le preds\n        combined = pd.concat([test[\"target\"], preds], axis=1)\n        combined.columns = [\"actual\", \"predicted\"]\n        combined[\"diff\"] = (combined[\"actual\"] - combined[\"predicted\"]).abs()\n        all_preds.append(combined)\n\n    #DF COMPLETO DI TUTTE LE PREDICTIONS (axis = 0, tutte separate)\n    return pd.concat(all_preds)\n        ",
      "metadata": {
        "trusted": true
      },
      "outputs": [],
      "execution_count": 115
    },
    {
      "cell_type": "code",
      "source": "#PROVA DEL MODELLO\n\npredictions = backtest(weather, rr, predictors)",
      "metadata": {
        "trusted": true
      },
      "outputs": [],
      "execution_count": 116
    },
    {
      "cell_type": "code",
      "source": "predictions",
      "metadata": {
        "trusted": true
      },
      "outputs": [
        {
          "execution_count": 118,
          "output_type": "execute_result",
          "data": {
            "text/plain": "            actual  predicted      diff\nDATE                                   \n1990-01-21     7.8   7.580421  0.219579\n1990-01-22     7.2   7.906167  0.706167\n1990-01-23     4.2   7.341639  3.141639\n1990-01-24     3.7   4.523967  0.823967\n1990-01-25     4.2   4.034892  0.165108\n...            ...        ...       ...\n2024-08-28    24.5  23.072773  1.427227\n2024-08-29    25.4  23.934585  1.465415\n2024-08-30    25.1  24.800417  0.299583\n2024-08-31    24.4  24.512560  0.112560\n2024-09-01    24.4  23.838884  0.561116\n\n[11888 rows x 3 columns]",
            "text/html": "<div>\n<style scoped>\n    .dataframe tbody tr th:only-of-type {\n        vertical-align: middle;\n    }\n\n    .dataframe tbody tr th {\n        vertical-align: top;\n    }\n\n    .dataframe thead th {\n        text-align: right;\n    }\n</style>\n<table border=\"1\" class=\"dataframe\">\n  <thead>\n    <tr style=\"text-align: right;\">\n      <th></th>\n      <th>actual</th>\n      <th>predicted</th>\n      <th>diff</th>\n    </tr>\n    <tr>\n      <th>DATE</th>\n      <th></th>\n      <th></th>\n      <th></th>\n    </tr>\n  </thead>\n  <tbody>\n    <tr>\n      <th>1990-01-21</th>\n      <td>7.8</td>\n      <td>7.580421</td>\n      <td>0.219579</td>\n    </tr>\n    <tr>\n      <th>1990-01-22</th>\n      <td>7.2</td>\n      <td>7.906167</td>\n      <td>0.706167</td>\n    </tr>\n    <tr>\n      <th>1990-01-23</th>\n      <td>4.2</td>\n      <td>7.341639</td>\n      <td>3.141639</td>\n    </tr>\n    <tr>\n      <th>1990-01-24</th>\n      <td>3.7</td>\n      <td>4.523967</td>\n      <td>0.823967</td>\n    </tr>\n    <tr>\n      <th>1990-01-25</th>\n      <td>4.2</td>\n      <td>4.034892</td>\n      <td>0.165108</td>\n    </tr>\n    <tr>\n      <th>...</th>\n      <td>...</td>\n      <td>...</td>\n      <td>...</td>\n    </tr>\n    <tr>\n      <th>2024-08-28</th>\n      <td>24.5</td>\n      <td>23.072773</td>\n      <td>1.427227</td>\n    </tr>\n    <tr>\n      <th>2024-08-29</th>\n      <td>25.4</td>\n      <td>23.934585</td>\n      <td>1.465415</td>\n    </tr>\n    <tr>\n      <th>2024-08-30</th>\n      <td>25.1</td>\n      <td>24.800417</td>\n      <td>0.299583</td>\n    </tr>\n    <tr>\n      <th>2024-08-31</th>\n      <td>24.4</td>\n      <td>24.512560</td>\n      <td>0.112560</td>\n    </tr>\n    <tr>\n      <th>2024-09-01</th>\n      <td>24.4</td>\n      <td>23.838884</td>\n      <td>0.561116</td>\n    </tr>\n  </tbody>\n</table>\n<p>11888 rows × 3 columns</p>\n</div>"
          },
          "metadata": {}
        }
      ],
      "execution_count": 118
    },
    {
      "cell_type": "code",
      "source": "#TEST DI QUANTO SIA BUONO IL MODELLO\n#MEAN ABSOLUTE ERROR\n#DI FATTO PRENDI LA DIFF E TROVA LA MEDIA E CONFRONTA \nfrom sklearn.metrics import mean_absolute_error\n\nMAR = mean_absolute_error(predictions[\"actual\"], predictions[\"predicted\"])\navgDiff = predictions[\"diff\"].mean()\n\nprint(\"MAR:\\n\", MAR)\nprint(\"Avg diff:\\n\", avgDiff)\n\n#NELLA MEDIA: 1.56 GRADI DI ERRORE RISPETTO ALL'ACTUAL",
      "metadata": {
        "trusted": true
      },
      "outputs": [
        {
          "name": "stdout",
          "text": "MAR:\n 1.564855268266514\nAvg diff:\n 1.564855268266514\n",
          "output_type": "stream"
        }
      ],
      "execution_count": 122
    },
    {
      "cell_type": "code",
      "source": "",
      "metadata": {
        "trusted": true
      },
      "outputs": [],
      "execution_count": null
    }
  ]
}